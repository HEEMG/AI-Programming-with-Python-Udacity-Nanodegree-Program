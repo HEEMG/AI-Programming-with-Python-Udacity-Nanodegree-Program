{
 "cells": [
  {
   "cell_type": "code",
   "execution_count": 1,
   "metadata": {
    "edited": true,
    "gradable": true,
    "grader_id": "x3r3kvpoh5h",
    "udacity_user_query": ""
   },
   "outputs": [
    {
     "name": "stdout",
     "output_type": "stream",
     "text": [
      "Congratulations! You won a wafer-thin mint!\n"
     ]
    }
   ],
   "source": [
    "# points = 174\n",
    "\n",
    "\n",
    "# if points <=50:\n",
    "#   prize = \"wooden rabbit\"\n",
    "#   result = \"Congratulations! You won a {}!\".format(prize)\n",
    "# elif points  <= 150:\n",
    "#   result = \"Oh dear, no prize this time.\"\n",
    "# elif points <= 180:\n",
    "#   prize = \"wafer-thin mint\"\n",
    "#   result = \"Congratulations! You won a {}!\".format(prize)\n",
    "# else:\n",
    "#     prize = \"penguin\"\n",
    "#     result = \"Congratulations! You won a {}!\".format(prize)\n",
    "\n",
    "\n",
    "# print(result)\n",
    "\n",
    "points = 174\n",
    "\n",
    "prize = None\n",
    "\n",
    "if points <=50:\n",
    "  prize = \"wooden rabbit\"\n",
    "elif 150<=points<=180:\n",
    "  prize = \"wafer-thin mint\"\n",
    "elif points >=181:\n",
    "  prize =\"penguin\"\n",
    "\n",
    "if prize:\n",
    "  result= \"Congratulations! You won a {}!\".format(prize)\n",
    "else:\n",
    "  result = \"Oh dear, no prize this time.\"\n",
    "\n",
    "print(result)\n"
   ]
  },
  {
   "cell_type": "code",
   "execution_count": null,
   "metadata": {},
   "outputs": [],
   "source": []
  }
 ],
 "metadata": {
  "grader_mode": "",
  "kernelspec": {
   "display_name": "Python 3",
   "language": "python",
   "name": "python3"
  },
  "language_info": {
   "codemirror_mode": {
    "name": "ipython",
    "version": 3
   },
   "file_extension": ".py",
   "mimetype": "text/x-python",
   "name": "python",
   "nbconvert_exporter": "python",
   "pygments_lexer": "ipython3",
   "version": "3.6.3"
  },
  "showGradeBtn": true
 },
 "nbformat": 4,
 "nbformat_minor": 2
}
